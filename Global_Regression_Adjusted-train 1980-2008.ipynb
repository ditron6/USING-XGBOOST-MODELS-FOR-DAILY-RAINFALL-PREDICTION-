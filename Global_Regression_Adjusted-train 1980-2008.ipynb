{
 "cells": [
  {
   "cell_type": "markdown",
   "metadata": {},
   "source": [
    "<h1><center> UFU - Federal University of Uberlândia</center></h1>\n",
    "\n",
    "<h2><center>Undergraduate Program in Civil Engineering</center></h2>\n",
    "\n",
    "<h3><center>SCIENTIFIC RESEARCH PROJECT</center><br>\n",
    "TITLE: USING XGBOOST MODELS FOR DAILY RAINFALL PREDICTION \n",
    "<br>  \n",
    "<br>  \n",
    "STUDENT: Pedro Augusto Toledo Rios</h3>\n",
    "\n",
    "<p>This notebook is part of a Scientific Research Project in the field of Computer Science/Data Analysis.</p>\n"
   ]
  },
  {
   "cell_type": "markdown",
   "metadata": {},
   "source": [
    "# Notebook for Daily Rainfall Amount (mm) Determination - Adjusted Global Dataset"
   ]
  },
  {
   "cell_type": "markdown",
   "metadata": {},
   "source": [
    "## Imports and Initial Configurations"
   ]
  },
  {
   "cell_type": "code",
   "execution_count": null,
   "metadata": {},
   "outputs": [],
   "source": [
    "# Data Analysis and Wrangling\n",
    "import pandas as pd\n",
    "import numpy as np\n",
    "import random\n",
    "\n",
    "# Visualization\n",
    "import matplotlib.pyplot as plt\n",
    "import seaborn as sns\n",
    "import plotly.graph_objects as go\n",
    "import plotly.express as px\n",
    "%matplotlib inline\n",
    "\n",
    "# Machine Learning\n",
    "from sklearn import metrics\n",
    "from sklearn.linear_model import LogisticRegression, LinearRegression, Perceptron, SGDClassifier\n",
    "from sklearn.svm import SVC, LinearSVC\n",
    "from sklearn.ensemble import RandomForestClassifier, AdaBoostClassifier\n",
    "from sklearn.neighbors import KNeighborsClassifier\n",
    "from sklearn.naive_bayes import GaussianNB\n",
    "from sklearn.tree import DecisionTreeClassifier\n",
    "from sklearn.model_selection import train_test_split\n",
    "from sklearn.metrics import (precision_score, recall_score, f1_score, \n",
    "                           accuracy_score, classification_report, \n",
    "                           confusion_matrix, ConfusionMatrixDisplay,\n",
    "                           mean_absolute_error, mean_squared_error, r2_score)\n",
    "\n",
    "# Deep Learning\n",
    "import tensorflow as tf\n",
    "from tensorflow import keras\n",
    "from tensorflow.keras.models import Sequential\n",
    "from tensorflow.keras.layers import (LSTM, Dense, Dropout, Bidirectional,\n",
    "                                   SimpleRNN, Embedding, Masking)\n",
    "\n",
    "# Display configuration\n",
    "pd.set_option(\"display.max_colwidth\", 150)\n",
    "pd.set_option(\"display.min_rows\", 20)"
   ]
  },
  {
   "cell_type": "markdown",
   "metadata": {},
   "source": [
    "## Exploratory Data Analysis"
   ]
  },
  {
   "cell_type": "code",
   "execution_count": null,
   "metadata": {},
   "outputs": [],
   "source": [
    "# Data Preprocessing\n",
    "missing_values = ['n/a', 'na', '*****', '*', '*******', ' -', '******', '5..84', '3..66', \n",
    "                 '3.3.21', '1..41', '********', '3.7.94', '354.59*', '564..79', '5.04.24', \n",
    "                 '21:36', '**********', '***', '*********', '03:18', '00:00', '03:48', \n",
    "                 '08:42', '03:06', '09:06', '01:30', '07:48', '09:12', '10:18', '01:24', \n",
    "                 '#VALUE!', '926,4923,8', '27/07/1902**21:36:00', '-', '926.4923.8',\n",
    "                 '185.488.992', '4.535.416.667', '3.495.833.333', '2.015.833.333',\n",
    "                 '2.489.166.667', '4.745.416.667', '3.227.916.667', '3.594.166.667',\n",
    "                 '3.720.416.667']\n",
    "\n",
    "# Load and clean dataset\n",
    "weather_data = pd.read_csv('C:/Users/auped/Desktop/IC CORREÇÕES/python 05-11/Titanic/modelo global/dadosclima_ajustado.csv', header = None, sep=';', na_values=missing_values)\n",
    "\n",
    "# Column renaming\n",
    "weather_data.columns = ['Max Temp (°C)', 'Min Temp (°C)', 'Avg Temp (°C)', \n",
    "                       'Wind Speed (km/h)', 'Solar Radiation (cal/cm²/h)', \n",
    "                       'Pressure (mb)', 'Humidity (%)', 'Rainfall (mm)', \n",
    "                       'Month', 'Year']\n",
    "\n",
    "# Data cleaning operations\n",
    "weather_data['Pressure (mb)'] = weather_data['Pressure (mb)'].str.replace(',,', '.')\n",
    "weather_data['Humidity (%)'] = weather_data['Humidity (%)'].astype(float)\n",
    "weather_data['Pressure (mb)'] = weather_data['Pressure (mb)'].astype(float)\n",
    "weather_data['Year'] = weather_data['Year'].str.replace(',,', '')\n",
    "weather_data['Year'] = weather_data['Year'].astype(int)\n",
    "\n",
    "# Filter valid ranges\n",
    "weather_data = weather_data[\n",
    "    (weather_data['Pressure (mb)'] >= 870) & \n",
    "    (weather_data['Pressure (mb)'] <= 1100)\n",
    "]\n",
    "\n",
    "weather_data = weather_data[\n",
    "    (weather_data['Solar Radiation (cal/cm²/h)'] >= 0) & \n",
    "    (weather_data['Solar Radiation (cal/cm²/h)'] <= 1500)\n",
    "]\n",
    "\n",
    "# Prepare data for analysis\n",
    "combined_data = [weather_data]\n",
    "rainfall = weather_data['Rainfall (mm)']\n",
    "\n",
    "# Display cleaned data\n",
    "weather_data.head()\n",
    "weather_data.dropna(inplace=True)\n",
    "\n",
    "# Show missing values count\n",
    "print(weather_data.isnull().sum())"
   ]
  },
  {
   "cell_type": "markdown",
   "metadata": {},
   "source": [
    "### Implementation of a Rain Detection Class for Daily Weather Data"
   ]
  },
  {
   "cell_type": "code",
   "execution_count": null,
   "metadata": {},
   "outputs": [],
   "source": [
    "# Create binary rainfall indicator column (0 = no rain, 1 = rain)\n",
    "for weather_df in combined_data:\n",
    "    weather_df.loc[weather_df['Rainfall (mm)'] == 0, 'Rainfall_Occurred'] = 0\n",
    "    weather_df.loc[weather_df['Rainfall (mm)'] > 0, 'Rainfall_Occurred'] = 1\n",
    "\n",
    "# Display first 5 rows\n",
    "weather_data.head()"
   ]
  },
  {
   "cell_type": "code",
   "execution_count": null,
   "metadata": {},
   "outputs": [],
   "source": [
    "# Generate descriptive statistics\n",
    "weather_data.describe()"
   ]
  },
  {
   "cell_type": "code",
   "execution_count": null,
   "metadata": {},
   "outputs": [],
   "source": [
    "# Display missing values count per column\n",
    "print('\\nMissing Values in DataFrame:\\n', weather_data.isnull().sum(), sep='')"
   ]
  },
  {
   "cell_type": "code",
   "execution_count": null,
   "metadata": {},
   "outputs": [],
   "source": [
    "# Data cleaning \n",
    "\n",
    "weather_data['Humidity (%)'] = weather_data['Humidity (%)'].astype(float)\n",
    "weather_data['Pressure (mb)'] = weather_data['Pressure (mb)'].astype(float)\n",
    "\n",
    "weather_data['Year'] = weather_data['Year'].astype(int)"
   ]
  },
  {
   "cell_type": "code",
   "execution_count": null,
   "metadata": {},
   "outputs": [],
   "source": [
    "# Calculate Pearson correlation with rainfall and sort values\n",
    "rain_correlation = weather_data.corr(method='pearson')['Rainfall (mm)'].sort_values()\n",
    "print(rain_correlation)"
   ]
  },
  {
   "cell_type": "code",
   "execution_count": null,
   "metadata": {},
   "outputs": [],
   "source": [
    "# Count rainy and dry days\n",
    "rain_count = weather_data['Rainfall_Occurred'].value_counts()\n",
    "\n",
    "# Get results (with default 0 if no occurrences)\n",
    "rainy_days = rain_count.get(1, 0)    # Days with rain (1)\n",
    "dry_days = rain_count.get(0, 0)      # Days without rain (0)\n",
    "\n",
    "# Print formatted results\n",
    "print(f\"Total rainy days: {rainy_days}\")\n",
    "print(f\"Total dry days: {dry_days}\")"
   ]
  },
  {
   "cell_type": "markdown",
   "metadata": {},
   "source": [
    "## Time Period Selection for Analysis"
   ]
  },
  {
   "cell_type": "code",
   "execution_count": null,
   "metadata": {},
   "outputs": [],
   "source": [
    "start_year = 1980\n",
    "end_year = 2020\n",
    "train_start_year = 1983\n",
    "train_end_year = 2008\n",
    "test_start_year = 2009\n",
    "test_end_year = 2019\n"
   ]
  },
  {
   "cell_type": "code",
   "execution_count": null,
   "metadata": {},
   "outputs": [],
   "source": [
    "# Remove rows with zero rainfall\n",
    "weather_data.drop(weather_data.loc[weather_data['Rainfall (mm)'] == 0].index, \n",
    "                inplace=True)"
   ]
  },
  {
   "cell_type": "code",
   "execution_count": null,
   "metadata": {},
   "outputs": [],
   "source": [
    "dadosparateste = weather_data.copy()\n",
    "\n",
    "#Criando uma nova coluna de chuva para ficar no final do dataframe\n",
    "\n",
    "qtdchuva = dadosparateste['Rainfall (mm)']\n",
    "\n",
    "\n",
    "dadosparateste['Rainfall (mm)'] = qtdchuva\n",
    "\n",
    "#Visualização das primeiras cinco linhas da tabela\n",
    "dadosparateste.head()  "
   ]
  },
  {
   "cell_type": "code",
   "execution_count": null,
   "metadata": {},
   "outputs": [],
   "source": [
    "#dadosparateste.drop(columns = ['Rainfall (mm)'], axis = 1, inplace=True)\n"
   ]
  },
  {
   "cell_type": "markdown",
   "metadata": {},
   "source": [
    "## Shared Utility Functions for All Models"
   ]
  },
  {
   "cell_type": "code",
   "execution_count": null,
   "metadata": {},
   "outputs": [],
   "source": [
    "# Library para statmodels\n",
    "import statsmodels.api as sm\n",
    "from sklearn.metrics import mean_absolute_percentage_error\n",
    "\n",
    "#Definir funções que serão utilizadas por todos os modelos de predição\n",
    "\n",
    "#Imprimir mensagens de erro da predição\n",
    "def imprimir_scores_predicao(strModel, y_target, arPredict):\n",
    "  #print(strModel, ' - R2: ', r2_score(y_target, arPredict))\n",
    "  print(strModel, ' - MAE:  ', mean_absolute_error(y_target, arPredict))\n",
    "  print(strModel, ' - MAPE: ', mean_absolute_percentage_error(y_target, arPredict))\n",
    "  #print(strModel, ' - MSE: ', mean_squared_error(y_target, arPredict))\n",
    "  print(strModel, ' - RMSE: ', np.sqrt(mean_squared_error(y_target, arPredict)))\n",
    "  print(strModel, ' - MSE: ',mean_squared_error(y_target, arPredict))\n",
    "  print(strModel, ' - R2: ',r2_score(y_target, arPredict))\n",
    "  #mse = metrics.mean_squared_error(y, yhat)\n",
    "  \n",
    "  \n",
    "def imprimir_graficos_predicao(strModel, y_target, arPredict):\n",
    "  \n",
    "  df_Test_Predicted = y_target.copy()\n",
    "  df_Test_Predicted['Chuva (mm)'] = arPredict\n",
    "\n",
    "  #Plotagem dos dados de teste e dados previstos\n",
    "  plt.figure(figsize=(16,8))\n",
    "  plt.plot(y_target.loc['Dia'], y_target, color = 'blue', label = 'Chuva Real')\n",
    "  plt.plot(y_target.loc['Dia'], arPredict, color = 'red', label = 'Chuva Prevista')\n",
    "  font = {'family': 'serif',\n",
    "        'color':  'black',\n",
    "        'weight': 'normal',\n",
    "        'size': 13.5,\n",
    "        }\n",
    "  plt.title('Comparação entre o real e o previsto pelo modelo', fontdict=font)\n",
    "  plt.xlabel('Período')\n",
    "  plt.ylabel('Quantidade de chuva')\n",
    "  plt.legend()\n",
    "  plt.grid(True)\n",
    "  #plt.savefig('lstm2.pdf')\n",
    "  plt.show()  "
   ]
  },
  {
   "cell_type": "markdown",
   "metadata": {},
   "source": [
    "# Machine Learning Models - Regression"
   ]
  },
  {
   "cell_type": "code",
   "execution_count": null,
   "metadata": {},
   "outputs": [],
   "source": [
    "# Criar os dataframes de Treinamento e Teste\n",
    "df_train = dadosparateste[(dadosparateste['Year'] >= train_start_year) & (dadosparateste['Year'] <= train_end_year)]\n",
    "df_test = dadosparateste[(dadosparateste['Year'] >= test_start_year) & (dadosparateste['Year'] <= test_end_year)]\n",
    "\n",
    "\n",
    "\n",
    "# Separar variáveis independentes (X) e variável alvo (y)\n",
    "X_train = df_train.iloc[:, 0:7]\n",
    "y_train = df_train[['Rainfall (mm)']]\n",
    "\n",
    "X_test = df_test.iloc[:, 0:7]\n",
    "y_test = df_test[['Rainfall (mm)']]\n",
    "\n",
    "# Exibir as primeiras linhas do conjunto de teste\n",
    "X_train.head()"
   ]
  },
  {
   "cell_type": "markdown",
   "metadata": {},
   "source": [
    "# XGBOOST "
   ]
  },
  {
   "cell_type": "code",
   "execution_count": null,
   "metadata": {},
   "outputs": [],
   "source": [
    "import xgboost as xgb"
   ]
  },
  {
   "cell_type": "code",
   "execution_count": null,
   "metadata": {},
   "outputs": [],
   "source": [
    "xg_reg = xgb.XGBRegressor(objective ='reg:linear', colsample_bytree = 0.3, learning_rate = 0.1,\n",
    "                max_depth = 100, alpha = 1, n_estimators = 100000)"
   ]
  },
  {
   "cell_type": "code",
   "execution_count": null,
   "metadata": {},
   "outputs": [],
   "source": [
    "xg_reg.fit(X_train,y_train)\n",
    "\n",
    "preds = xg_reg.predict(X_test)"
   ]
  },
  {
   "cell_type": "code",
   "execution_count": null,
   "metadata": {},
   "outputs": [],
   "source": [
    "imprimir_scores_predicao(\"XGBoost\", y_test, preds)\n"
   ]
  },
  {
   "cell_type": "code",
   "execution_count": null,
   "metadata": {},
   "outputs": [],
   "source": [
    "y_test.describe()"
   ]
  },
  {
   "cell_type": "code",
   "execution_count": null,
   "metadata": {},
   "outputs": [],
   "source": [
    "chuvaprevista = []\n",
    "for z in range(len(preds)):\n",
    "    #print(y_pred4[z])\n",
    "    chuvaprevista.append(preds[z])\n",
    "    \n",
    "df_test['Previsão']= chuvaprevista\n",
    "df_test.head()    "
   ]
  },
  {
   "cell_type": "code",
   "execution_count": null,
   "metadata": {},
   "outputs": [],
   "source": [
    "df_test.to_excel(\"regressaoseco.xlsx\")"
   ]
  },
  {
   "cell_type": "code",
   "execution_count": null,
   "metadata": {},
   "outputs": [],
   "source": [
    "df_test"
   ]
  },
  {
   "cell_type": "code",
   "execution_count": null,
   "metadata": {},
   "outputs": [],
   "source": [
    "\n",
    "df_test = df_test[df_test['Year']>= 1980]\n",
    "df_test =  df_test[df_test['Year'] <= 2020]"
   ]
  },
  {
   "cell_type": "code",
   "execution_count": null,
   "metadata": {},
   "outputs": [],
   "source": [
    "import numpy as np\n",
    "import matplotlib.pyplot as plt\n",
    "\n",
    "# Filtrar valores positivos para evitar erro na escala logarítmica\n",
    "df_test = df_test[(df_test['Rainfall (mm)'] > 0) & (df_test['Previsão'] > 0)]\n",
    "\n",
    "# Verificar se df_test está vazio após o filtro\n",
    "if df_test.empty:\n",
    "    print(\"Erro: df_test está vazio após remover valores não positivos. Verifique os dados.\")\n",
    "else:\n",
    "    plt.figure(figsize=(10, 10))\n",
    "\n",
    "    true_value = df_test['Rainfall (mm)']\n",
    "    predicted_value = df_test['Previsão']\n",
    "\n",
    "    plt.scatter(true_value, predicted_value, c='crimson')\n",
    "    plt.yscale('log')\n",
    "    plt.xscale('log')\n",
    "\n",
    "    p1 = max(max(predicted_value), max(true_value))\n",
    "    p2 = min(min(predicted_value), min(true_value))\n",
    "    \n",
    "    plt.plot([p1, p2], [p1, p2], 'b-')\n",
    "    plt.xlabel('True Values', fontsize=15)\n",
    "    plt.ylabel('Predictions', fontsize=15)\n",
    "    plt.axis('equal')\n",
    "    plt.show()\n"
   ]
  },
  {
   "cell_type": "code",
   "execution_count": null,
   "metadata": {},
   "outputs": [],
   "source": [
    "from xgboost import plot_importance\n",
    "plot_importance(xg_reg)\n",
    "pyplot.show()"
   ]
  }
 ],
 "metadata": {
  "kernelspec": {
   "display_name": "Python 3",
   "language": "python",
   "name": "python3"
  },
  "language_info": {
   "codemirror_mode": {
    "name": "ipython",
    "version": 3
   },
   "file_extension": ".py",
   "mimetype": "text/x-python",
   "name": "python",
   "nbconvert_exporter": "python",
   "pygments_lexer": "ipython3",
   "version": "3.11.9"
  },
  "orig_nbformat": 4
 },
 "nbformat": 4,
 "nbformat_minor": 2
}
