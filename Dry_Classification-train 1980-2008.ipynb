{
 "cells": [
  {
   "cell_type": "markdown",
   "metadata": {},
   "source": [
    "<h1><center> UFU - Federal University of Uberlândia</center></h1>\n",
    "\n",
    "<h2><center>Undergraduate Program in Civil Engineering</center></h2>\n",
    "\n",
    "<h3><center>SCIENTIFIC RESEARCH PROJECT</center><br>\n",
    "TITLE: USING XGBOOST MODELS FOR DAILY RAINFALL PREDICTION \n",
    "<br>  \n",
    "<br>  \n",
    "STUDENT: Pedro Augusto Toledo Rios</h3>\n",
    "\n",
    "<p>This notebook is part of a Scientific Research Project in the field of Computer Science/Data Analysis.</p>\n"
   ]
  },
  {
   "cell_type": "markdown",
   "metadata": {},
   "source": [
    "# Classification"
   ]
  },
  {
   "cell_type": "markdown",
   "metadata": {},
   "source": [
    "## Imports and Initial Configurations"
   ]
  },
  {
   "cell_type": "code",
   "execution_count": null,
   "metadata": {},
   "outputs": [],
   "source": [
    "# Data Analysis and Wrangling\n",
    "import pandas as pd\n",
    "import numpy as np\n",
    "import random as rnd\n",
    "import seaborn as sn\n",
    "\n",
    "# Data Visualization\n",
    "import seaborn as sns\n",
    "import matplotlib.pyplot as plt\n",
    "%matplotlib inline\n",
    "\n",
    "# Machine Learning\n",
    "from sklearn.linear_model import LogisticRegression\n",
    "from sklearn.svm import SVC, LinearSVC\n",
    "from sklearn.ensemble import RandomForestClassifier\n",
    "from sklearn.neighbors import KNeighborsClassifier\n",
    "from sklearn.naive_bayes import GaussianNB\n",
    "from sklearn.linear_model import Perceptron\n",
    "from sklearn.linear_model import SGDClassifier\n",
    "from sklearn.tree import DecisionTreeClassifier\n",
    "from sklearn.model_selection import train_test_split \n",
    "from sklearn.linear_model import LinearRegression\n",
    "from sklearn import metrics\n",
    "from sklearn.metrics import precision_score, recall_score, f1_score, accuracy_score\n",
    "from sklearn.metrics import classification_report, confusion_matrix\n",
    "import itertools\n",
    "from sklearn import svm\n",
    "from sklearn.naive_bayes import GaussianNB\n",
    "from sklearn.ensemble import AdaBoostClassifier\n",
    "from sklearn.metrics import ConfusionMatrixDisplay\n",
    "import xgboost as xgb\n",
    "import lightgbm as lgb\n",
    "from sklearn.linear_model import LogisticRegression\n",
    "from sklearn import datasets\n",
    "from sklearn.model_selection import train_test_split\n",
    "from sklearn.linear_model import LogisticRegression\n",
    "from sklearn.metrics import precision_recall_curve\n",
    "import matplotlib.pyplot as plt\n"
   ]
  },
  {
   "cell_type": "markdown",
   "metadata": {},
   "source": [
    "# Exploratory Data Analysis"
   ]
  },
  {
   "cell_type": "code",
   "execution_count": null,
   "metadata": {},
   "outputs": [],
   "source": [
    "# Data Preprocessing\n",
    "missing_values = [\n",
    "    'n/a', 'na', '*****', '*', '*******', ' -', '******', '5..84', '3..66', \n",
    "    '3.3.21', '1..41', '********', '3.7.94', '354.59*', '564..79', '5.04.24', \n",
    "    '21:36', '**********', '***', '*********', '03:18', '00:00', '03:48', \n",
    "    '08:42', '03:06', '09:06', '01:30', '07:48', '09:12', '10:18', '01:24', \n",
    "    '#VALUE!', '926,4923,8', '27/07/1902**21:36:00', '-', '*****', '185.488.992'\n",
    "]\n",
    "\n",
    "# Load dataset and define column names\n",
    "climate_data = pd.read_csv(\n",
    "    \"C:/Users/auped/Desktop/IC CORREÇÕES/python 05-11/Titanic/modelo global/Classificação/dadosclima_PERIODOSECO - Copia.csv\",\n",
    "    header=None,\n",
    "    sep=';',\n",
    "    na_values=missing_values\n",
    ")\n",
    "\n",
    "climate_data.columns = [\n",
    "    'Max Temp (°C)', 'Min Temp (°C)', 'Avg Temp (°C)', 'Wind Speed (km/h)', \n",
    "    'Solar Radiation (cal/cm²/h)', 'Pressure (mb)', 'Humidity (%)', 'Rainfall (mm)', \n",
    "    'Month', 'Year', 'Rainy/Dry'\n",
    "]\n",
    "\n",
    "# Data Cleaning\n",
    "climate_data['Pressure (mb)'] = climate_data['Pressure (mb)'].str.replace(',,', '.')\n",
    "climate_data['Humidity (%)'] = climate_data['Humidity (%)'].astype(float)\n",
    "climate_data['Pressure (mb)'] = climate_data['Pressure (mb)'].astype(float)\n",
    "climate_data['Year'] = climate_data['Year'].str.replace(',,', '')\n",
    "climate_data['Year'] = climate_data['Year'].astype(int)\n",
    "\n",
    "# Filtering pressure values within the valid range\n",
    "climate_data = climate_data[(climate_data['Pressure (mb)'] >= 870) & (climate_data['Pressure (mb)'] <= 1100)]\n",
    "\n",
    "# Storing rainfall data separately\n",
    "combine = [climate_data]\n",
    "rainfall = climate_data['Rainfall (mm)']\n",
    "\n",
    "# Display first five rows of the processed dataset\n",
    "climate_data.head()\n",
    "climate_data.dropna()\n",
    "\n",
    "# Display the number of missing values per column\n",
    "print(climate_data.isnull().sum())\n"
   ]
  },
  {
   "cell_type": "code",
   "execution_count": null,
   "metadata": {},
   "outputs": [],
   "source": [
    "climate_data.describe()"
   ]
  },
  {
   "cell_type": "code",
   "execution_count": null,
   "metadata": {},
   "outputs": [],
   "source": [
    "# Creating a new column indicating whether it rained\n",
    "# Using the existing 'Rainfall (mm)' column\n",
    "\n",
    "for climate_data in combine:  # Changed from 'combine' to 'dados_clima' to match your dataset variable\n",
    "    climate_data.loc[climate_data['Rainfall (mm)'] == 0, 'Rained?'] = 0\n",
    "    climate_data.loc[climate_data['Rainfall (mm)'] > 0, 'Rained?'] = 1\n",
    "\n",
    "# Display the first five rows of the dataset\n",
    "    climate_data.head()"
   ]
  },
  {
   "cell_type": "code",
   "execution_count": null,
   "metadata": {},
   "outputs": [],
   "source": [
    "# Handling Missing Values\n",
    "\n",
    "# Forward-fill (ffill) method: fills missing values with the last available value in the column\n",
    "climate_data['Min Temp (°C)'].fillna(method='ffill', inplace=True)\n",
    "climate_data['Avg Temp (°C)'].fillna(method='ffill', inplace=True)\n",
    "climate_data['Wind Speed (km/h)'].fillna(method='ffill', inplace=True)\n",
    "climate_data['Solar Radiation (cal/cm²/h)'].fillna(method='ffill', inplace=True)\n",
    "climate_data['Humidity (%)'].fillna(method='ffill', inplace=True)\n",
    "climate_data['Rainfall (mm)'].fillna(method='ffill', inplace=True)\n",
    "climate_data['Pressure (mb)'].fillna(method='ffill', inplace=True)\n",
    "climate_data['Rained?'].fillna(method='ffill', inplace=True)\n",
    "climate_data['Max Temp (°C)'].fillna(method='ffill', inplace=True)\n",
    "\n",
    "# Checking for missing values after imputation\n",
    "print('\\nMissing Values in the dataset after treatment:\\n', climate_data.isnull().sum(), sep=\"\")\n"
   ]
  },
  {
   "cell_type": "code",
   "execution_count": null,
   "metadata": {},
   "outputs": [],
   "source": [
    "climate_data.describe()"
   ]
  },
  {
   "cell_type": "code",
   "execution_count": null,
   "metadata": {},
   "outputs": [],
   "source": [
    "# 70% for training / 30% for testing\n",
    "\n",
    "start_year = 1980\n",
    "end_year = 2020\n",
    "training_start_year = 1980\n",
    "training_end_year = 2008\n",
    "testing_start_year = 2009\n",
    "testing_end_year = 2019\n",
    "\n",
    "# Creating a copy of the dataset for testing\n",
    "test_data = climate_data.copy()\n"
   ]
  },
  {
   "cell_type": "code",
   "execution_count": null,
   "metadata": {},
   "outputs": [],
   "source": [
    "# Removing the \"Rain (mm)\" column from the dataset  \n",
    "test_data.drop(columns=['Rainfall (mm)'], axis=1, inplace=True)\n"
   ]
  },
  {
   "cell_type": "markdown",
   "metadata": {},
   "source": [
    "# Machine Learning Models\n"
   ]
  },
  {
   "cell_type": "markdown",
   "metadata": {},
   "source": [
    "## Creating Training and Testing DataFrames"
   ]
  },
  {
   "cell_type": "code",
   "execution_count": null,
   "metadata": {},
   "outputs": [],
   "source": [
    "# Creating training and test datasets\n",
    "df_train = test_data[test_data['Year'] >= training_start_year]\n",
    "df_train = test_data[test_data['Year'] <= training_end_year]\n",
    "df_test = test_data[test_data['Year'] >= testing_start_year]\n",
    "df_test = test_data[test_data['Year'] <= testing_end_year]\n",
    "\n",
    "\n",
    "\n",
    "# Splitting features (X) and target variable (Y)\n",
    "x_train = df_train.iloc[:, 0:8]\n",
    "y_train = df_train[['Rained?']]\n",
    "\n",
    "x_test = df_test.iloc[:, 0:8]\n",
    "y_test = df_test[['Rained?']]\n",
    "\n",
    "# Displaying the first few rows of the test feature set\n",
    "x_test.head()\n"
   ]
  },
  {
   "cell_type": "markdown",
   "metadata": {},
   "source": [
    "## Model - XGBoost to Determine Whether It Rained or Not\n"
   ]
  },
  {
   "cell_type": "code",
   "execution_count": null,
   "metadata": {},
   "outputs": [],
   "source": [
    "# Creating the XGBoost classifier object\n",
    "xgboost_classifier = xgb.XGBClassifier()\n",
    "\n",
    "# Training the XGBoost classifier\n",
    "xgb_model = xgboost_classifier.fit(x_test, y_test)\n",
    "\n",
    "# Making predictions on the training set\n",
    "y_pred_train = xgb_model.predict(x_train)\n"
   ]
  },
  {
   "cell_type": "code",
   "execution_count": null,
   "metadata": {},
   "outputs": [],
   "source": [
    "print('Precision: %.3f' % precision_score(y_train, y_pred_train))\n",
    "print('Accuracy: %.3f' % accuracy_score(y_train, y_pred_train))\n",
    "print('Recall: %.3f' % recall_score(y_train, y_pred_train))"
   ]
  },
  {
   "cell_type": "code",
   "execution_count": null,
   "metadata": {},
   "outputs": [],
   "source": [
    "# Compute the confusion matrix\n",
    "cm = confusion_matrix(y_train, y_pred_train)\n",
    "\n",
    "# Define class labels (replace with your own if necessary)\n",
    "class_names = ['Negative Class', 'Positive Class']\n",
    "\n",
    "# Plot the confusion matrix using Seaborn\n",
    "plt.figure(figsize=(8, 6))\n",
    "sns.set(font_scale=1.2)  # Adjust font size\n",
    "\n",
    "sns.heatmap(cm, annot=True, fmt='d', cmap='Blues', xticklabels=class_names, yticklabels=class_names)\n",
    "\n",
    "plt.xlabel('Predicted Label')\n",
    "plt.ylabel('True Label')\n",
    "plt.show()\n"
   ]
  }
 ],
 "metadata": {
  "kernelspec": {
   "display_name": "Python 3",
   "language": "python",
   "name": "python3"
  },
  "language_info": {
   "codemirror_mode": {
    "name": "ipython",
    "version": 3
   },
   "file_extension": ".py",
   "mimetype": "text/x-python",
   "name": "python",
   "nbconvert_exporter": "python",
   "pygments_lexer": "ipython3",
   "version": "3.11.9"
  },
  "orig_nbformat": 4
 },
 "nbformat": 4,
 "nbformat_minor": 2
}
