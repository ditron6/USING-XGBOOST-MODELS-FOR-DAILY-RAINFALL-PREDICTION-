{
 "cells": [
  {
   "cell_type": "markdown",
   "metadata": {},
   "source": [
    "<h1><center> UFU - Federal University of Uberlândia</center></h1>\n",
    "\n",
    "<h2><center>Undergraduate Program in Civil Engineering</center></h2>\n",
    "\n",
    "<h3><center>SCIENTIFIC RESEARCH PROJECT</center><br>\n",
    "TITLE: USING XGBOOST MODELS FOR DAILY RAINFALL PREDICTION \n",
    "<br>  \n",
    "<br>  \n",
    "STUDENT: Pedro Augusto Toledo Rios</h3>\n",
    "\n",
    "<p>This notebook is part of a Scientific Research Project in the field of Computer Science/Data Analysis.</p>\n"
   ]
  },
  {
   "cell_type": "markdown",
   "metadata": {},
   "source": [
    "# Classification"
   ]
  },
  {
   "cell_type": "markdown",
   "metadata": {},
   "source": [
    "## Imports and Initial Configurations"
   ]
  },
  {
   "cell_type": "code",
   "execution_count": null,
   "metadata": {},
   "outputs": [],
   "source": [
    "# Data Analysis and Preprocessing\n",
    "import pandas as pd\n",
    "import numpy as np\n",
    "import random as rnd\n",
    "import seaborn as sn\n",
    "\n",
    "# Data Visualization\n",
    "import seaborn as sns\n",
    "import matplotlib.pyplot as plt\n",
    "%matplotlib inline\n",
    "\n",
    "# Machine Learning Libraries\n",
    "from sklearn.linear_model import LogisticRegression\n",
    "from sklearn.svm import SVC, LinearSVC\n",
    "from sklearn.ensemble import RandomForestClassifier\n",
    "from sklearn.neighbors import KNeighborsClassifier\n",
    "from sklearn.naive_bayes import GaussianNB\n",
    "from sklearn.linear_model import Perceptron\n",
    "from sklearn.linear_model import SGDClassifier\n",
    "from sklearn.tree import DecisionTreeClassifier\n",
    "from sklearn.model_selection import train_test_split \n",
    "from sklearn.linear_model import LinearRegression\n",
    "from sklearn import metrics\n",
    "from sklearn.metrics import precision_score, recall_score, f1_score, accuracy_score\n",
    "from sklearn.metrics import classification_report, confusion_matrix\n",
    "import itertools\n",
    "from sklearn import svm\n",
    "from sklearn.naive_bayes import GaussianNB\n",
    "from sklearn.ensemble import AdaBoostClassifier\n",
    "from sklearn.metrics import ConfusionMatrixDisplay\n",
    "import xgboost as xgb\n",
    "import lightgbm as lgb\n",
    "from sklearn.linear_model import LogisticRegression\n",
    "from sklearn import datasets\n",
    "from sklearn.model_selection import train_test_split\n",
    "from sklearn.linear_model import LogisticRegression\n",
    "from sklearn.metrics import precision_recall_curve\n",
    "import matplotlib.pyplot as plt\n"
   ]
  },
  {
   "cell_type": "markdown",
   "metadata": {},
   "source": [
    "# Exploratory Data Analysis"
   ]
  },
  {
   "cell_type": "code",
   "execution_count": null,
   "metadata": {},
   "outputs": [],
   "source": [
    "# Data Processing\n",
    "missing_values = ['n/a', 'na', '*****', '*', '*******', ' -', '******', '5..84', '3..66', '3.3.21', \n",
    "                  '1..41', '********', '3.7.94', '354.59*', '564..79', '5.04.24', '21:36', '**********', \n",
    "                  '***', '*********', '03:18', '00:00', '03:48', '08:42', '03:06', '09:06', '01:30', \n",
    "                  '07:48', '09:12', '10:18', '01:24', '#VALUE!', '926,4923,8', '27/07/1902**21:36:00', \n",
    "                  '-', '926.4923.8']\n",
    "\n",
    "# Loading the dataset and handling missing values\n",
    "weather_data = pd.read_csv('C:/Users/auped/Desktop/IC CORREÇÕES/python 05-11/pesquisa/dadosclima_PERIODOCHUVOSO.csv', \n",
    "                           header=None, sep=';', na_values=missing_values)\n",
    "\n",
    "# Defining column names\n",
    "weather_data.columns = ['Max Temperature (°C)', 'Min Temperature (°C)', 'Avg Temperature (°C)', \n",
    "                        'Wind Speed (km/h)', 'Solar Radiation (cal/cm²/h)', 'Pressure (mb)', \n",
    "                        'Relative Humidity (%)', 'Rainfall (mm)', 'Month', 'Year', 'Rainy/Dry']\n",
    "\n",
    "# Cleaning and transforming the \"Year\" column\n",
    "weather_data['Year'] = weather_data['Year'].str.replace(',,', '')\n",
    "weather_data['Year'] = weather_data['Year'].astype(int)\n",
    "\n",
    "# Filtering pressure values within the valid range\n",
    "weather_data = weather_data[(weather_data['Pressure (mb)'] >= 870) & (weather_data['Pressure (mb)'] <= 1100)]\n",
    "\n",
    "# Storing relevant variables\n",
    "combine = [weather_data]\n",
    "rainfall = weather_data['Rainfall (mm)']\n",
    "\n",
    "# Displaying the first five rows of the processed dataset\n",
    "weather_data.head()\n",
    "\n",
    "# Dropping missing values\n",
    "weather_data.dropna()\n",
    "\n",
    "# Displaying the number of missing values in each column\n",
    "print(weather_data.isnull().sum())"
   ]
  },
  {
   "cell_type": "markdown",
   "metadata": {},
   "source": [
    "### Creation of a new class to determine whether it rained on a given day"
   ]
  },
  {
   "cell_type": "code",
   "execution_count": null,
   "metadata": {},
   "outputs": [],
   "source": [
    "#weather_data['Did it Rain?'] = rainfall\n",
    "\n",
    "# Loop to populate the new column with 0 (no rain) and 1 (rain)\n",
    "for weather_data in combine:    \n",
    "    weather_data.loc[weather_data['Rainfall (mm)'] == 0, 'Did it Rain?'] = 0\n",
    "    weather_data.loc[weather_data['Rainfall (mm)'] > 0, 'Did it Rain?'] = 1\n",
    "\n",
    "# Displaying the first five rows of the table\n",
    "weather_data.head()\n"
   ]
  },
  {
   "cell_type": "code",
   "execution_count": null,
   "metadata": {},
   "outputs": [],
   "source": [
    "weather_data.describe()"
   ]
  },
  {
   "cell_type": "code",
   "execution_count": null,
   "metadata": {},
   "outputs": [],
   "source": [
    "# Handling Missing Values\n",
    "\n",
    "weather_data['Min Temperature (°C)'].fillna(method='ffill', inplace=True)   # ffill => fills with the last known temperature before the missing value\n",
    "weather_data['Avg Temperature (°C)'].fillna(method='ffill', inplace=True)   # ffill => fills with the last known temperature before the missing value\n",
    "weather_data['Wind Speed (km/h)'].fillna(method='ffill', inplace=True)      # ffill => fills with the last known wind speed before the missing value\n",
    "weather_data['Solar Radiation (cal/cm²/h)'].fillna(method='ffill', inplace=True) # ffill => fills with the last known radiation before the missing value\n",
    "weather_data['Relative Humidity (%)'].fillna(method='ffill', inplace=True)  # ffill => fills with the last known humidity rate before the missing value\n",
    "weather_data['Rainfall (mm)'].fillna(method='ffill', inplace=True)          # ffill => fills with the last known rainfall amount before the missing value\n",
    "weather_data['Pressure (mb)'].fillna(method='ffill', inplace=True)          # ffill => fills with the last known pressure before the missing value\n",
    "weather_data['Did it Rain?'].fillna(method='ffill', inplace=True)           # ffill => fills with the last known value before the missing value\n",
    "weather_data['Max Temperature (°C)'].fillna(method='ffill', inplace=True)   # ffill => fills with the last known temperature before the missing value\n",
    "\n",
    "# Checking for missing values after the imputation process\n",
    "print('\\nMissing Values in the dataframe after processing:\\n', weather_data.isnull().sum(), sep=\"\")\n"
   ]
  },
  {
   "cell_type": "code",
   "execution_count": null,
   "metadata": {},
   "outputs": [],
   "source": [
    "weather_data.describe()"
   ]
  },
  {
   "cell_type": "markdown",
   "metadata": {},
   "source": [
    "### Code snippets to filter the DataFrame for a specific period of interest.\n"
   ]
  },
  {
   "cell_type": "code",
   "execution_count": null,
   "metadata": {},
   "outputs": [],
   "source": [
    "# 70% for training / 30% for testing\n",
    "\n",
    "start_year = 1980\n",
    "end_year = 2020\n",
    "training_start_year = 1980\n",
    "training_end_year = 2008\n",
    "testing_start_year = 2009\n",
    "testing_end_year = 2019\n",
    "\n",
    "test_data = weather_data.copy()\n"
   ]
  },
  {
   "cell_type": "code",
   "execution_count": null,
   "metadata": {},
   "outputs": [],
   "source": [
    "test_data.drop(columns=['Rainfall (mm)'], axis=1, inplace=True)\n",
    "# test_data.drop(columns=['Relative Humidity (%)'], axis=1, inplace=True)\n"
   ]
  },
  {
   "cell_type": "markdown",
   "metadata": {},
   "source": [
    "# Machine Learning Models\n"
   ]
  },
  {
   "cell_type": "markdown",
   "metadata": {},
   "source": [
    "## Creating Training and Testing DataFrames\n"
   ]
  },
  {
   "cell_type": "code",
   "execution_count": null,
   "metadata": {},
   "outputs": [],
   "source": [
    "# Creating Training and Testing DataFrames\n",
    "df_train = test_data[test_data['Year'] >= training_start_year]\n",
    "df_train = test_data[test_data['Year'] <= training_end_year]\n",
    "df_test = test_data[test_data['Year'] >= testing_start_year]\n",
    "df_test = test_data[test_data['Year'] <= testing_end_year]\n",
    "\n",
    "x_train = df_train.iloc[:, 0:7]\n",
    "y_train = df_train[['Did it Rain?']]\n",
    "\n",
    "x = df_test.iloc[:, 0:7]\n",
    "y = df_test[['Did it Rain?']]\n",
    "\n",
    "x.head()\n"
   ]
  },
  {
   "cell_type": "markdown",
   "metadata": {},
   "source": [
    "## Model - XGBoost to Determine Whether It Rained or Not\n"
   ]
  },
  {
   "cell_type": "code",
   "execution_count": null,
   "metadata": {},
   "outputs": [],
   "source": [
    "# Creating the XGBoost classifier\n",
    "xgboost_classifier = xgb.XGBClassifier()\n",
    "\n",
    "# Training the XGBoost classifier\n",
    "xgboost_model = xgboost_classifier.fit(x, y)\n",
    "\n",
    "# Testing\n",
    "\n",
    "y_pred4 = xgboost_model.predict(x_train)\n"
   ]
  },
  {
   "cell_type": "code",
   "execution_count": null,
   "metadata": {},
   "outputs": [],
   "source": [
    "# Evaluation Scores\n",
    "\n",
    "print('Precision: %.3f' % precision_score(y_train, y_pred4))\n",
    "print('Accuracy: %.3f' % accuracy_score(y_train, y_pred4))\n",
    "print('Recall: %.3f' % recall_score(y_train, y_pred4))\n"
   ]
  },
  {
   "cell_type": "code",
   "execution_count": null,
   "metadata": {},
   "outputs": [],
   "source": [
    "# Compute the confusion matrix\n",
    "cm = confusion_matrix(y_train, y_pred4)\n",
    "\n",
    "# Define class labels (replace with your own if necessary)\n",
    "class_names = ['Negative Class', 'Positive Class']\n",
    "\n",
    "# Plot the confusion matrix using Seaborn\n",
    "plt.figure(figsize=(8, 6))\n",
    "sns.set(font_scale=1.2)  # Adjust font size\n",
    "\n",
    "sns.heatmap(cm, annot=True, fmt='d', cmap='Blues', xticklabels=class_names, yticklabels=class_names)\n",
    "\n",
    "plt.xlabel('Predicted Label')\n",
    "plt.ylabel('True Label')\n",
    "plt.show()\n"
   ]
  }
 ],
 "metadata": {
  "kernelspec": {
   "display_name": "Python 3",
   "language": "python",
   "name": "python3"
  },
  "language_info": {
   "codemirror_mode": {
    "name": "ipython",
    "version": 3
   },
   "file_extension": ".py",
   "mimetype": "text/x-python",
   "name": "python",
   "nbconvert_exporter": "python",
   "pygments_lexer": "ipython3",
   "version": "3.11.9"
  },
  "orig_nbformat": 4
 },
 "nbformat": 4,
 "nbformat_minor": 2
}
