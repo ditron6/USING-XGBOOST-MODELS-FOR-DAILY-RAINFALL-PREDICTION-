{
 "cells": [
  {
   "cell_type": "markdown",
   "metadata": {},
   "source": [
    "<h1><center> UFU - Federal University of Uberlândia</center></h1>\n",
    "\n",
    "<h2><center>Undergraduate Program in Civil Engineering</center></h2>\n",
    "\n",
    "<h3><center>SCIENTIFIC RESEARCH PROJECT</center><br>\n",
    "TITLE: USING XGBOOST MODELS FOR DAILY RAINFALL PREDICTION \n",
    "<br>  \n",
    "<br>  \n",
    "STUDENT: Pedro Augusto Toledo Rios</h3>\n",
    "\n",
    "<p>This notebook is part of a Scientific Research Project in the field of Computer Science/Data Analysis.</p>\n"
   ]
  },
  {
   "cell_type": "markdown",
   "metadata": {},
   "source": [
    "#  Notebook for Determining the Daily Rainfall Amount (mm) - Dry Period"
   ]
  },
  {
   "cell_type": "markdown",
   "metadata": {},
   "source": [
    "## Imports and Initial Configurations"
   ]
  },
  {
   "cell_type": "code",
   "execution_count": null,
   "metadata": {},
   "outputs": [],
   "source": [
    "# Data Analysis and Wrangling\n",
    "import pandas as pd\n",
    "import numpy as np\n",
    "import random as rnd\n",
    "\n",
    "# Visualization Libraries\n",
    "import matplotlib.pyplot as plt\n",
    "import seaborn as sns\n",
    "import plotly.graph_objects as go\n",
    "import plotly.express as px\n",
    "%matplotlib inline\n",
    "\n",
    "# Machine Learning - Scikit-Learn\n",
    "from sklearn import metrics\n",
    "from sklearn.linear_model import (\n",
    "    LogisticRegression,  # Logistic regression model\n",
    "    LinearRegression,    # Linear regression model\n",
    "    Perceptron,          # Perceptron classifier (basic neural network)\n",
    "    SGDClassifier        # Stochastic Gradient Descent classifier\n",
    ")\n",
    "from sklearn.svm import SVC, LinearSVC  # Support Vector Machine classifiers\n",
    "from sklearn.ensemble import (\n",
    "    RandomForestClassifier,  # Random Forest Classifier (ensemble method)\n",
    "    AdaBoostClassifier       # Adaptive Boosting classifier\n",
    ")\n",
    "from sklearn.neighbors import KNeighborsClassifier  # K-Nearest Neighbors classifier\n",
    "from sklearn.naive_bayes import GaussianNB  # Gaussian Naïve Bayes classifier\n",
    "from sklearn.tree import DecisionTreeClassifier  # Decision Tree classifier\n",
    "from sklearn.model_selection import train_test_split  # Splitting dataset into training and test sets\n",
    "from sklearn.metrics import (\n",
    "    precision_score,       # Precision metric\n",
    "    recall_score,          # Recall metric\n",
    "    f1_score,              # F1-score metric\n",
    "    accuracy_score,        # Accuracy metric\n",
    "    classification_report, # Summary report for classification results\n",
    "    confusion_matrix,      # Confusion matrix\n",
    "    ConfusionMatrixDisplay,# Confusion matrix visualization\n",
    "    mean_absolute_error,   # Mean Absolute Error (MAE)\n",
    "    mean_squared_error,    # Mean Squared Error (MSE)\n",
    "    r2_score              # R-squared metric (coefficient of determination)\n",
    ")\n",
    "\n",
    "# Deep Learning - TensorFlow/Keras\n",
    "import tensorflow as tf\n",
    "from tensorflow import keras\n",
    "from tensorflow.keras.models import Sequential\n",
    "from tensorflow.keras.layers import (\n",
    "    LSTM,         # Long Short-Term Memory (LSTM) layer for sequential data\n",
    "    Dense,        # Fully connected (dense) layer\n",
    "    Dropout,      # Dropout layer to reduce overfitting\n",
    "    Bidirectional,# Bidirectional LSTM layer\n",
    "    SimpleRNN,    # Simple Recurrent Neural Network layer\n",
    "    Embedding,    # Embedding layer for handling categorical data\n",
    "    Masking       # Masking layer to ignore certain time steps in sequential models\n",
    ")\n",
    "\n",
    "# Pandas Configuration Settings\n",
    "pd.set_option(\"display.max_colwidth\", 150)  # Adjust maximum column width for display\n",
    "pd.set_option(\"display.min_rows\", 20)       # Adjust minimum number of rows to display\n"
   ]
  },
  {
   "cell_type": "markdown",
   "metadata": {},
   "source": [
    "## Exploratory Data Analysis"
   ]
  },
  {
   "cell_type": "code",
   "execution_count": null,
   "metadata": {},
   "outputs": [],
   "source": [
    "# Data Preprocessing\n",
    "\n",
    "# Defining missing values representation in the dataset\n",
    "missing_values = ['n/a', 'na', '*****', '*', '*******', ' -', '******', \n",
    "                  '5..84', '3..66', '3.3.21', '1..41', '********', '3.7.94', \n",
    "                  '354.59*', '564..79', '5.04.24', '21:36', '**********', \n",
    "                  '***', '*********', '03:18', '00:00', '03:48', '08:42', \n",
    "                  '03:06', '09:06', '01:30', '07:48', '09:12', '10:18', \n",
    "                  '01:24', '#VALUE!', '926,4923,8', '27/07/1902**21:36:00', \n",
    "                  '-', '926.4923.8', '185.488.992']\n",
    "\n",
    "# Loading the dataset while treating missing values\n",
    "dados_clima = pd.read_csv('C:/Users/auped/Desktop/IC CORREÇÕES/python 05-11/pesquisa/dadosclima_PERIODOSECO.csv', \n",
    "                          header=None, sep=';', na_values=missing_values)\n",
    "\n",
    "# Renaming columns for better readability\n",
    "dados_clima.columns = ['Max Temp (°C)', 'Min Temp (°C)', 'Avg Temp (°C)', \n",
    "                       'Wind Speed (km/h)', 'Solar Radiation (cal/cm²/h)', \n",
    "                       'Pressure (mb)', 'Humidity (%)', 'Rainfall (mm)', \n",
    "                       'Month', 'Year', 'Rainy/Dry']\n",
    "\n",
    "# Replacing incorrect string patterns in numerical columns\n",
    "dados_clima['Pressure (mb)'] = dados_clima['Pressure (mb)'].str.replace(',,', '.')\n",
    "dados_clima['Year'] = dados_clima['Year'].str.replace(',,', '')\n",
    "\n",
    "# Converting data types\n",
    "dados_clima['Humidity (%)'] = dados_clima['Humidity (%)'].astype(float)\n",
    "dados_clima['Pressure (mb)'] = dados_clima['Pressure (mb)'].astype(float)\n",
    "dados_clima['Solar Radiation (cal/cm²/h)'] = dados_clima['Solar Radiation (cal/cm²/h)'].astype(float)\n",
    "dados_clima['Year'] = dados_clima['Year'].astype(int)\n",
    "\n",
    "# Dropping missing values in Humidity column\n",
    "dados_clima['Humidity (%)'].dropna(inplace=True)\n",
    "\n",
    "# Filtering out pressure values that fall outside the valid range\n",
    "dados_clima = dados_clima[(dados_clima['Pressure (mb)'] >= 870) & \n",
    "                          (dados_clima['Pressure (mb)'] <= 1100)]\n",
    "\n",
    "# Assigning the target variable\n",
    "combine = [dados_clima]\n",
    "rainfall = dados_clima['Rainfall (mm)']\n",
    "\n",
    "# Displaying the first five rows of the preprocessed dataset\n",
    "dados_clima.head()\n",
    "\n",
    "# Dropping any remaining missing values\n",
    "dados_clima.dropna(inplace=True)\n",
    "\n",
    "# Displaying the number of missing values per column\n",
    "print(dados_clima.isnull().sum())\n"
   ]
  },
  {
   "cell_type": "markdown",
   "metadata": {},
   "source": [
    "### Implementation of a Rain Detection Class for Daily Weather Data"
   ]
  },
  {
   "cell_type": "code",
   "execution_count": null,
   "metadata": {},
   "outputs": [],
   "source": [
    "# Loop to populate the new column with 0 (no rain) and 1 (rain)\n",
    "for dados_clima in combine:    \n",
    "    dados_clima.loc[dados_clima['Rainfall (mm)'] == 0, 'Rained?'] = 0\n",
    "    dados_clima.loc[dados_clima['Rainfall (mm)'] > 0, 'Rained?'] = 1\n",
    "\n",
    "# Displaying the first five rows of the dataset\n",
    "dados_clima.head()\n"
   ]
  },
  {
   "cell_type": "code",
   "execution_count": null,
   "metadata": {},
   "outputs": [],
   "source": [
    "# Statistical summary of the dataset\n",
    "dados_clima.describe()\n"
   ]
  },
  {
   "cell_type": "code",
   "execution_count": null,
   "metadata": {},
   "outputs": [],
   "source": [
    "# Rename columns to English\n",
    "dados_clima_ingles = dados_clima.describe().rename(columns={\n",
    "    'Temp Máx (°C)': 'Max Temperature (°C)',\n",
    "    'Temp Mín (°C)': 'Min Temperature (°C)',\n",
    "    'Temp Média (°C)': 'Average Temperature (°C)',\n",
    "    'Velocidade do Vento (km/h)': 'Wind Speed (km/h)',\n",
    "    'Radiação solar (cal/cm²/h)': 'Solar Radiation (cal/cm²/h)',\n",
    "    'Pressão (mb)': 'Pressure (mb)',\n",
    "    'UR (%)': 'Relative Humidity (%)',\n",
    "    'Chuva (mm)': 'Rainfall (mm)',\n",
    "    'Mês': 'Month',\n",
    "    'Ano': 'Year',\n",
    "    'Chuvoso/Seco': 'Rainy/Dry'\n",
    "})\n",
    "\n",
    "# Save the dataset summary to an Excel file\n",
    "file_path = r\"C:\\Users\\auped\\Desktop\\IC CORREÇÕES\\climate_data_dry_period_summary.xlsx\"\n",
    "dados_clima_ingles.to_excel(file_path)\n",
    "\n",
    "print(f\"File successfully saved at: {file_path}\")\n"
   ]
  },
  {
   "cell_type": "code",
   "execution_count": null,
   "metadata": {},
   "outputs": [],
   "source": [
    "# Generate statistical summary of the dataset\n",
    "df_summary = dados_clima.describe()\n",
    "\n",
    "# Save the statistical summary to an Excel file\n",
    "file_path = \"statistical_summary_dry_period.xlsx\"\n",
    "df_summary.to_excel(file_path)\n",
    "\n",
    "print(f\"File successfully saved as: {file_path}\")\n"
   ]
  },
  {
   "cell_type": "code",
   "execution_count": null,
   "metadata": {},
   "outputs": [],
   "source": [
    "# Display the number of missing values in each column\n",
    "print(\"\\nMissing Values in the DataFrame:\\n\", dados_clima.isnull().sum(), sep=\"\")\n"
   ]
  },
  {
   "cell_type": "code",
   "execution_count": null,
   "metadata": {},
   "outputs": [],
   "source": [
    "# Handling Missing Values  \n",
    "\n",
    "dados_clima['Min Temp (°C)'].fillna(method='ffill', inplace=True)  # Forward-fill to propagate the last observed value  \n",
    "dados_clima['Avg Temp (°C)'].fillna(method='ffill', inplace=True)  \n",
    "dados_clima['Wind Speed (km/h)'].fillna(method='ffill', inplace=True)  \n",
    "dados_clima['Solar Radiation (cal/cm²/h)'].fillna(method='ffill', inplace=True)  \n",
    "dados_clima['Humidity (%)'].fillna(method='ffill', inplace=True)  \n",
    "dados_clima['Rainfall (mm)'].fillna(method='ffill', inplace=True)  \n",
    "dados_clima['Pressure (mb)'].fillna(method='ffill', inplace=True)  \n",
    "dados_clima['Rained?'].fillna(method='ffill', inplace=True)  \n",
    "dados_clima['Max Temp (°C)'].fillna(method='ffill', inplace=True)  \n",
    "\n",
    "# Verifying missing values after imputation  \n",
    "print(\"\\nMissing Values in the DataFrame after treatment:\\n\", dados_clima.isnull().sum(), sep=\"\")\n"
   ]
  },
  {
   "cell_type": "code",
   "execution_count": null,
   "metadata": {},
   "outputs": [],
   "source": [
    "# Compute Pearson correlation and sort values  \n",
    "columns_corr = dados_clima.corr(method='pearson')['Rainfall (mm)'].sort_values()  \n",
    "print(columns_corr)\n"
   ]
  },
  {
   "cell_type": "code",
   "execution_count": null,
   "metadata": {},
   "outputs": [],
   "source": [
    "# Count rainy and dry days  \n",
    "rain_count = dados_clima['Rained?'].value_counts()\n",
    "\n",
    "# Results  \n",
    "rainy_days = rain_count.get(1, 0)  # Returns 0 if no value 1 is found  \n",
    "dry_days = rain_count.get(0, 0)  # Returns 0 if no value 0 is found  \n",
    "\n",
    "print(f\"Total rainy days: {rainy_days}\")  \n",
    "print(f\"Total dry days: {dry_days}\")\n"
   ]
  },
  {
   "cell_type": "markdown",
   "metadata": {},
   "source": [
    "## Time Period Selection for Analysis"
   ]
  },
  {
   "cell_type": "code",
   "execution_count": null,
   "metadata": {},
   "outputs": [],
   "source": [
    "start_year = 1980\n",
    "end_year = 2020\n",
    "train_start_year = 1983\n",
    "train_end_year = 2008\n",
    "test_start_year = 2009\n",
    "test_end_year = 2019\n"
   ]
  },
  {
   "cell_type": "code",
   "execution_count": null,
   "metadata": {},
   "outputs": [],
   "source": [
    "dados_clima.drop(dados_clima.loc[dados_clima['Rainfall (mm)']==0].index, inplace=True)\n"
   ]
  },
  {
   "cell_type": "code",
   "execution_count": null,
   "metadata": {},
   "outputs": [],
   "source": [
    "dadosparateste = dados_clima.copy()\n",
    "\n",
    "#Criando uma nova coluna de chuva para ficar no final do dataframe\n",
    "\n",
    "qtdchuva = dadosparateste['Rainfall (mm)']\n",
    "\n",
    "\n",
    "dadosparateste['Chuva att (mm)'] = qtdchuva\n",
    "\n",
    "#Visualização das primeiras cinco linhas da tabela\n",
    "dadosparateste.head()  "
   ]
  },
  {
   "cell_type": "code",
   "execution_count": null,
   "metadata": {},
   "outputs": [],
   "source": [
    "dadosparateste.drop(columns = ['Chuva att (mm)'], axis = 1, inplace=True)\n"
   ]
  },
  {
   "cell_type": "markdown",
   "metadata": {},
   "source": [
    "## Shared Utility Functions for All Models"
   ]
  },
  {
   "cell_type": "code",
   "execution_count": null,
   "metadata": {},
   "outputs": [],
   "source": [
    "# Library para statmodels\n",
    "import statsmodels.api as sm\n",
    "from sklearn.metrics import mean_absolute_percentage_error\n",
    "\n",
    "#Definir funções que serão utilizadas por todos os modelos de predição\n",
    "\n",
    "#Imprimir mensagens de erro da predição\n",
    "def imprimir_scores_predicao(strModel, y_target, arPredict):\n",
    "  #print(strModel, ' - R2: ', r2_score(y_target, arPredict))\n",
    "  print(strModel, ' - MAE:  ', mean_absolute_error(y_target, arPredict))\n",
    "  print(strModel, ' - MAPE: ', mean_absolute_percentage_error(y_target, arPredict))\n",
    "  #print(strModel, ' - MSE: ', mean_squared_error(y_target, arPredict))\n",
    "  print(strModel, ' - RMSE: ', np.sqrt(mean_squared_error(y_target, arPredict)))\n",
    "  print(strModel, ' - MSE: ',mean_squared_error(y_target, arPredict))\n",
    "  print(strModel, ' - R2: ',r2_score(y_target, arPredict))\n",
    "  #mse = metrics.mean_squared_error(y, yhat)\n",
    "  \n",
    "  \n",
    "def imprimir_graficos_predicao(strModel, y_target, arPredict):\n",
    "  \n",
    "  df_Test_Predicted = y_target.copy()\n",
    "  df_Test_Predicted['Daily Rainfall (mm)'] = arPredict\n",
    "\n",
    "  #Plotagem dos dados de teste e dados previstos\n",
    "  plt.figure(figsize=(16,8))\n",
    "  plt.plot(y_target.loc['Dia'], y_target, color = 'blue', label = 'Chuva Real')\n",
    "  plt.plot(y_target.loc['Dia'], arPredict, color = 'red', label = 'Chuva Prevista')\n",
    "  font = {'family': 'serif',\n",
    "        'color':  'black',\n",
    "        'weight': 'normal',\n",
    "        'size': 13.5,\n",
    "        }\n",
    "  plt.title('Comparação entre o real e o previsto pelo modelo', fontdict=font)\n",
    "  plt.xlabel('Período')\n",
    "  plt.ylabel('Quantidade de chuva')\n",
    "  plt.legend()\n",
    "  plt.grid(True)\n",
    "  #plt.savefig('lstm2.pdf')\n",
    "  plt.show() "
   ]
  },
  {
   "cell_type": "markdown",
   "metadata": {},
   "source": [
    "# Machine Learning Models - Regression"
   ]
  },
  {
   "cell_type": "code",
   "execution_count": null,
   "metadata": {},
   "outputs": [],
   "source": [
    "# Create training and testing dataframes\n",
    "df_train = dadosparateste[(dadosparateste['Year'] >= train_start_year) & \n",
    "                          (dadosparateste['Year'] <= train_end_year)]\n",
    "\n",
    "df_test = dadosparateste[(dadosparateste['Year'] >= test_start_year) & \n",
    "                         (dadosparateste['Year'] <= test_end_year)]\n",
    "\n",
    "# Split features (X) and target variable (y)\n",
    "X_train = df_train.iloc[:, 0:7]\n",
    "y_train = df_train[['Rainfall (mm)']]\n",
    "\n",
    "X_test = df_test.iloc[:, 0:7]\n",
    "y_test = df_test[['Rainfall (mm)']]\n"
   ]
  },
  {
   "cell_type": "markdown",
   "metadata": {},
   "source": [
    "# XGBOOST "
   ]
  },
  {
   "cell_type": "code",
   "execution_count": null,
   "metadata": {},
   "outputs": [],
   "source": [
    "import xgboost as xgb"
   ]
  },
  {
   "cell_type": "code",
   "execution_count": null,
   "metadata": {},
   "outputs": [],
   "source": [
    "xg_reg = xgb.XGBRegressor(objective ='reg:linear', colsample_bytree = 0.3, learning_rate = 0.1,\n",
    "                max_depth = 100, alpha = 1, n_estimators = 100000)"
   ]
  },
  {
   "cell_type": "code",
   "execution_count": null,
   "metadata": {},
   "outputs": [],
   "source": [
    "xg_reg.fit(X_train,y_train)\n",
    "\n",
    "preds = xg_reg.predict(X_test)"
   ]
  },
  {
   "cell_type": "code",
   "execution_count": null,
   "metadata": {},
   "outputs": [],
   "source": [
    "imprimir_scores_predicao(\"XGBoost\", y_test, preds)\n"
   ]
  },
  {
   "cell_type": "code",
   "execution_count": null,
   "metadata": {},
   "outputs": [],
   "source": [
    "y_test.describe()"
   ]
  },
  {
   "cell_type": "code",
   "execution_count": null,
   "metadata": {},
   "outputs": [],
   "source": [
    "chuvaprevista = []\n",
    "for z in range(len(preds)):\n",
    "    #print(y_pred4[z])\n",
    "    chuvaprevista.append(preds[z])\n",
    "    \n",
    "df_test['Previsão']= chuvaprevista\n",
    "df_test.head()    "
   ]
  },
  {
   "cell_type": "code",
   "execution_count": null,
   "metadata": {},
   "outputs": [],
   "source": [
    "df_test = df_test[df_test['Year']>= 1980]\n",
    "df_test =  df_test[df_test['Year'] <= 2019]"
   ]
  },
  {
   "cell_type": "code",
   "execution_count": null,
   "metadata": {},
   "outputs": [],
   "source": [
    "plt.figure(figsize=(10,10))\n",
    "\n",
    "true_value = df_test['Rainfall (mm)']\n",
    "predicted_value = df_test['Previsão']\n",
    "plt.scatter(true_value, predicted_value, c='crimson')\n",
    "plt.yscale('log')\n",
    "plt.xscale('log')\n",
    "\n",
    "p1 = max(max(predicted_value), max(true_value))\n",
    "p2 = min(min(predicted_value), min(true_value))\n",
    "plt.plot([p1, p2], [p1, p2], 'b-')\n",
    "plt.xlabel('True Values', fontsize=15)\n",
    "plt.ylabel('Predictions', fontsize=15)\n",
    "plt.axis('equal')\n",
    "plt.show()"
   ]
  }
 ],
 "metadata": {
  "kernelspec": {
   "display_name": "Python 3",
   "language": "python",
   "name": "python3"
  },
  "language_info": {
   "codemirror_mode": {
    "name": "ipython",
    "version": 3
   },
   "file_extension": ".py",
   "mimetype": "text/x-python",
   "name": "python",
   "nbconvert_exporter": "python",
   "pygments_lexer": "ipython3",
   "version": "3.11.9"
  },
  "orig_nbformat": 4
 },
 "nbformat": 4,
 "nbformat_minor": 2
}
