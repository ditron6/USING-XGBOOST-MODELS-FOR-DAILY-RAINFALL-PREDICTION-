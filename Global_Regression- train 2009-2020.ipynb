{
 "cells": [
  {
   "cell_type": "markdown",
   "metadata": {},
   "source": [
    "<h1><center> UFU - Federal University of Uberlândia</center></h1>\n",
    "\n",
    "<h2><center>Undergraduate Program in Civil Engineering</center></h2>\n",
    "\n",
    "<h3><center>SCIENTIFIC RESEARCH PROJECT</center><br>\n",
    "TITLE: USING XGBOOST MODELS FOR DAILY RAINFALL PREDICTION \n",
    "<br>  \n",
    "<br>  \n",
    "STUDENT: Pedro Augusto Toledo Rios</h3>\n",
    "\n",
    "<p>This notebook is part of a Scientific Research Project in the field of Computer Science/Data Analysis.</p>\n"
   ]
  },
  {
   "cell_type": "markdown",
   "metadata": {},
   "source": [
    "# Notebook for Daily Rainfall Amount (mm) Determination - Global Dataset"
   ]
  },
  {
   "cell_type": "markdown",
   "metadata": {},
   "source": [
    "## Imports and Initial Configurations"
   ]
  },
  {
   "cell_type": "code",
   "execution_count": null,
   "metadata": {},
   "outputs": [],
   "source": [
    "# data analysis and wrangling\n",
    "import pandas as pd\n",
    "import numpy as np\n",
    "import random as rnd\n",
    "import seaborn as sn\n",
    "\n",
    "# visualization\n",
    "import seaborn as sns\n",
    "import matplotlib.pyplot as plt\n",
    "%matplotlib inline\n",
    "\n",
    "# machine learning\n",
    "from sklearn.linear_model import LogisticRegression\n",
    "from sklearn.svm import SVC, LinearSVC\n",
    "from sklearn.ensemble import RandomForestClassifier\n",
    "from sklearn.neighbors import KNeighborsClassifier\n",
    "from sklearn.naive_bayes import GaussianNB\n",
    "from sklearn.linear_model import Perceptron\n",
    "from sklearn.linear_model import SGDClassifier\n",
    "from sklearn.tree import DecisionTreeClassifier\n",
    "from sklearn.model_selection import train_test_split \n",
    "from sklearn.linear_model import LinearRegression\n",
    "from sklearn import  metrics\n",
    "from sklearn.metrics import precision_score, recall_score, f1_score, accuracy_score\n",
    "from sklearn.metrics import classification_report, confusion_matrix\n",
    "import itertools\n",
    "from sklearn import svm\n",
    "from sklearn.naive_bayes import GaussianNB\n",
    "from sklearn.ensemble import AdaBoostClassifier\n",
    "from sklearn.metrics import confusion_matrix, ConfusionMatrixDisplay\n",
    "import matplotlib.pyplot as plt\n",
    "import numpy as np\n",
    "import pandas as pd\n",
    "pd.set_option(\"display.max_colwidth\", 150)\n",
    "pd.set_option(\"display.min_rows\", 20)\n",
    "\n",
    "import matplotlib.pyplot as plt\n",
    "\n",
    "import seaborn as sns # Statistical data visualization\n",
    "\n",
    "import plotly.graph_objects as go\n",
    "import plotly.express as px\n",
    "from keras.models import Sequential\n",
    "from keras.layers import LSTM, SimpleRNN, Dense, Dropout, Masking, Embedding\n",
    "\n",
    "import tensorflow as tf\n",
    "from tensorflow.keras.models import Sequential\n",
    "from tensorflow.keras.layers import LSTM, Dense, Dropout, Bidirectional\n",
    "\n",
    "import pandas as pd\n",
    "import matplotlib.pyplot as plt\n",
    "import tensorflow as tf\n",
    "from tensorflow import keras\n",
    "from sklearn.metrics import mean_absolute_error, mean_squared_error, r2_score"
   ]
  },
  {
   "cell_type": "markdown",
   "metadata": {},
   "source": [
    "## Exploratory Data Analysis"
   ]
  },
  {
   "cell_type": "code",
   "execution_count": null,
   "metadata": {},
   "outputs": [],
   "source": [
    "# Tratamento de dados\n",
    "missing_values = ['n/a','na','*****','*','*******',' -', '******', '5..84', '3..66', '3.3.21', '1..41', '********', '3.7.94', '354.59*', '564..79', '5.04.24', '21:36','**********', '***', '*********', '03:18', '00:00', '03:48', '08:42', '03:06', '09:06', '01:30', '07:48', '09:12', '10:18', '01:24', '#VALUE!' , '926,4923,8', '27/07/1902**21:36:00', '-', '926.4923.8']\n",
    "\n",
    "dados_clima = pd.read_csv('C:/Users/auped/Desktop/IC CORREÇÕES/python 05-11/pesquisa/dadosclimaatt - CORRETO.csv', header = None, sep=';', na_values=missing_values)\n",
    "dados_clima.columns=['Temp Máx (°C)', 'Temp Mín (°C)', 'Temp Média (°C)', 'Velocidade do Vento (km/h)', 'Radiação solar (cal/cm²/h)', 'Pressão (mb)', 'UR (%)', 'Chuva (mm)', 'Mês', 'Ano']\n",
    "dados_clima['UR (%)'] = dados_clima['UR (%)'].str.replace(':', '.')\n",
    "dados_clima['Pressão (mb)'] = dados_clima['Pressão (mb)'].str.replace(',,', '.')\n",
    "dados_clima['UR (%)'] = dados_clima['UR (%)'].astype(float)\n",
    "dados_clima['Pressão (mb)'] = dados_clima['Pressão (mb)'].astype(float)\n",
    "dados_clima['Ano'] = dados_clima['Ano'].str.replace(',,', '')\n",
    "dados_clima['Ano'] = dados_clima['Ano'].astype(int)\n",
    "\n",
    "# Filtrar valores de pressão fora do intervalo válido\n",
    "dados_clima = dados_clima[(dados_clima['Pressão (mb)'] >= 870) & (dados_clima['Pressão (mb)'] <= 1100)]\n",
    "\n",
    "combine = [dados_clima]\n",
    "chuva = dados_clima['Chuva (mm)']\n",
    "\n",
    "# Primeiras cinco linhas dos dados pós-tratados\n",
    "dados_clima.head()\n",
    "dados_clima.dropna()\n",
    "\n",
    "# Número de missing values encontrdos em cada coluna\n",
    "print(dados_clima.isnull().sum())"
   ]
  },
  {
   "cell_type": "code",
   "execution_count": null,
   "metadata": {},
   "outputs": [],
   "source": [
    "dados_clima.describe()\n",
    "\n",
    "# Renomear as colunas para inglês\n",
    "dados_clima_ingles = dados_clima.describe().rename(columns={\n",
    "    'Temp Máx (°C)': 'Max Temperature (°C)',\n",
    "    'Temp Mín (°C)': 'Min Temperature (°C)',\n",
    "    'Temp Média (°C)': 'Average temperature (°C)',\n",
    "    'Velocidade do Vento (km/h)': 'Wind Speed (km/h)',\n",
    "    'Radiação solar (cal/cm²/h)': 'Solar Radiation (cal/cm²/h)',\n",
    "    'Pressão (mb)': 'Pressure (mb)',\n",
    "    'UR (%)': 'Relative humidity (%)',\n",
    "    'Chuva (mm)': 'Daily rain (mm)'\n",
    "})\n",
    "\n",
    "# Salvar em Excel no caminho especificado\n",
    "caminho = r\"C:\\Users\\auped\\Desktop\\IC CORREÇÕES\\dados_clima_describe_en.xlsx\"\n",
    "dados_clima_ingles.to_excel(caminho)\n",
    "\n"
   ]
  },
  {
   "cell_type": "code",
   "execution_count": null,
   "metadata": {},
   "outputs": [],
   "source": [
    "dftabela = dados_clima.describe() \n",
    "dftabela.to_excel(\"tabelaestatisticaGLOBALL.xlsx\")"
   ]
  },
  {
   "cell_type": "markdown",
   "metadata": {},
   "source": [
    "### Implementation of a Rain Detection Class for Daily Weather Data"
   ]
  },
  {
   "cell_type": "code",
   "execution_count": null,
   "metadata": {},
   "outputs": [],
   "source": [
    "\n",
    "# Loop que preenche a nova coluna com 0(não choveu) e 1(choveu)\n",
    "for dados_clima in combine:    \n",
    "    dados_clima.loc[ dados_clima['Chuva (mm)'] == 0, 'Choveu?'] = 0\n",
    "    dados_clima.loc[(dados_clima['Chuva (mm)'] > 0), 'Choveu?'] = 1\n",
    "\n",
    "#Visualização das primeiras cinco linhas da tabela\n",
    "dados_clima.head()   \n",
    "\n"
   ]
  },
  {
   "cell_type": "code",
   "execution_count": null,
   "metadata": {},
   "outputs": [],
   "source": [
    "print('\\nMissing Values no dataframe:\\n',dados_clima.isnull().sum(), sep=\"\")"
   ]
  },
  {
   "cell_type": "code",
   "execution_count": null,
   "metadata": {},
   "outputs": [],
   "source": [
    "#Tratar os Missing Values (Valores Ausentes)\n",
    "\n",
    "dados_clima['Temp Mín (°C)'].fillna(method='ffill',inplace = True)   #ffill => preencher com a última temperatura antes do Missing Value\n",
    "dados_clima['Temp Média (°C)'].fillna(method='ffill',inplace = True) #ffill => preencher com a última temperatura antes do Missing Value\n",
    "dados_clima['Velocidade do Vento (km/h)'].fillna(method='ffill',inplace = True) #ffill => preencher com a última velocidade antes do Missing Value\n",
    "dados_clima['Radiação solar (cal/cm²/h)'].fillna(method='ffill',inplace = True) #ffill => preencher com a última radiação antes do Missing Value\n",
    "dados_clima['UR (%)'].fillna(method='ffill',inplace = True) #ffill => preencher com a última taxa UR antes do Missing Value\n",
    "dados_clima['Chuva (mm)'].fillna(method='ffill',inplace = True) #ffill => preencher com a última quantidade antes do Missing Value\n",
    "dados_clima['Pressão (mb)'].fillna(method='ffill',inplace = True) #ffill => preencher com a última pressão antes do Missing Value\n",
    "dados_clima['Choveu?'].fillna(method='ffill',inplace = True) #ffill => preencher com a última pressão antes do Missing Value\n",
    "dados_clima['Temp Máx (°C)'].fillna(method='ffill',inplace = True)   #ffill => preencher com a última temperatura antes do Missing Value\n",
    "#dados_clima['Choveu?'] = dados_clima['Choveu?'].astype(int)\n",
    "\n",
    "\n",
    "#verificar os missing values após a imputação acima\n",
    "print('\\nMissing Values no dataframe  após o tratamento:\\n',dados_clima.isnull().sum(), sep=\"\")"
   ]
  },
  {
   "cell_type": "code",
   "execution_count": null,
   "metadata": {},
   "outputs": [],
   "source": [
    "# Usamos a correlação de Pearson e ordenamos os valores\n",
    "columns_corr = dados_clima.corr(method='pearson')['Chuva (mm)'].sort_values()\n",
    "print(columns_corr)"
   ]
  },
  {
   "cell_type": "code",
   "execution_count": null,
   "metadata": {},
   "outputs": [],
   "source": [
    "# Contar os dias de chuva e estiagem\n",
    "contagem_chuva = dados_clima['Choveu?'].value_counts()\n",
    "\n",
    "# Resultados\n",
    "dias_chuva = contagem_chuva.get(1, 0)  # Se não houver valor 1, retorna 0\n",
    "dias_estiagem = contagem_chuva.get(0, 0)  # Se não houver valor 0, retorna 0\n",
    "\n",
    "print(f\"Total de dias que choveu: {dias_chuva}\")\n",
    "print(f\"Total de dias de estiagem: {dias_estiagem}\")"
   ]
  },
  {
   "cell_type": "code",
   "execution_count": null,
   "metadata": {},
   "outputs": [],
   "source": [
    "dados_clima.describe()"
   ]
  },
  {
   "cell_type": "markdown",
   "metadata": {},
   "source": [
    "## Time Period Selection for Analysis"
   ]
  },
  {
   "cell_type": "code",
   "execution_count": null,
   "metadata": {},
   "outputs": [],
   "source": [
    "# 70% para treino / 30% para teste\n",
    "\n",
    "data_inicio = 1980\n",
    "data_fim = 2020\n",
    "data_inicio_treinamento = 2009\n",
    "data_fim_treinamento = 2019\n",
    "data_inicio_teste = 1983\n",
    "data_fim_teste = 2008\n",
    "\n",
    "\n"
   ]
  },
  {
   "cell_type": "code",
   "execution_count": null,
   "metadata": {},
   "outputs": [],
   "source": [
    "dados_clima.drop(dados_clima.loc[dados_clima['Chuva (mm)']==0].index, inplace=True)"
   ]
  },
  {
   "cell_type": "code",
   "execution_count": null,
   "metadata": {},
   "outputs": [],
   "source": [
    "dadosparateste = dados_clima.copy()\n",
    "\n",
    "#Criando uma nova coluna de chuva para ficar no final do dataframe\n",
    "\n",
    "qtdchuva = dadosparateste['Chuva (mm)']\n",
    "\n",
    "\n",
    "dadosparateste['Chuva att (mm)'] = qtdchuva\n",
    "\n",
    "#Visualização das primeiras cinco linhas da tabela\n",
    "dadosparateste.head()  "
   ]
  },
  {
   "cell_type": "code",
   "execution_count": null,
   "metadata": {},
   "outputs": [],
   "source": [
    "dadosparateste.drop(columns = ['Chuva (mm)'], axis = 1, inplace=True)\n"
   ]
  },
  {
   "cell_type": "markdown",
   "metadata": {},
   "source": [
    "## Shared Utility Functions for All Models"
   ]
  },
  {
   "cell_type": "code",
   "execution_count": null,
   "metadata": {},
   "outputs": [],
   "source": [
    "# Library para statmodels\n",
    "import statsmodels.api as sm\n",
    "from sklearn.metrics import mean_absolute_percentage_error\n",
    "\n",
    "#Definir funções que serão utilizadas por todos os modelos de predição\n",
    "\n",
    "#Imprimir mensagens de erro da predição\n",
    "def imprimir_scores_predicao(strModel, y_target, arPredict):\n",
    "  #print(strModel, ' - R2: ', r2_score(y_target, arPredict))\n",
    "  print(strModel, ' - MAE:  ', mean_absolute_error(y_target, arPredict))\n",
    "  print(strModel, ' - MAPE: ', mean_absolute_percentage_error(y_target, arPredict))\n",
    "  #print(strModel, ' - MSE: ', mean_squared_error(y_target, arPredict))\n",
    "  print(strModel, ' - RMSE: ', np.sqrt(mean_squared_error(y_target, arPredict)))\n",
    "  print(strModel, ' - MSE: ',mean_squared_error(y_target, arPredict))\n",
    "  print(strModel, ' - R2: ',r2_score(y_target, arPredict))\n",
    "  #mse = metrics.mean_squared_error(y, yhat)\n",
    "  \n",
    "  \n",
    "def imprimir_graficos_predicao(strModel, y_target, arPredict):\n",
    "  \n",
    "  df_Test_Predicted = y_target.copy()\n",
    "  df_Test_Predicted['Daily rain (mm)'] = arPredict\n",
    "\n",
    "  #Plotagem dos dados de teste e dados previstos\n",
    "  plt.figure(figsize=(16,8))\n",
    "  plt.plot(y_target.loc['Dia'], y_target, color = 'blue', label = 'Chuva Real')\n",
    "  plt.plot(y_target.loc['Dia'], arPredict, color = 'red', label = 'Chuva Prevista')\n",
    "  font = {'family': 'serif',\n",
    "        'color':  'black',\n",
    "        'weight': 'normal',\n",
    "        'size': 13.5,\n",
    "        }\n",
    "  plt.title('Comparação entre o real e o previsto pelo modelo', fontdict=font)\n",
    "  plt.xlabel('Período')\n",
    "  plt.ylabel('Quantidade de chuva')\n",
    "  plt.legend()\n",
    "  plt.grid(True)\n",
    "  #plt.savefig('lstm2.pdf')\n",
    "  plt.show() "
   ]
  },
  {
   "cell_type": "markdown",
   "metadata": {},
   "source": [
    "# Machine Learning Models - Regression"
   ]
  },
  {
   "cell_type": "code",
   "execution_count": null,
   "metadata": {},
   "outputs": [],
   "source": [
    "# Criar os dataframes de Treinamento e Teste\n",
    "df_train = dadosparateste[(dadosparateste['Ano'] >= data_inicio_treinamento) & (dadosparateste['Ano'] <= data_fim_treinamento)]\n",
    "df_test = dadosparateste[(dadosparateste['Ano'] >= data_inicio_teste) & (dadosparateste['Ano'] <= data_fim_teste)]\n",
    "\n",
    "# Separar variáveis independentes (X) e variável alvo (y)\n",
    "X_train = df_train.iloc[:, 0:7]\n",
    "y_train = df_train[['Chuva att (mm)']]\n",
    "\n",
    "X_test = df_test.iloc[:, 0:7]\n",
    "y_test = df_test[['Chuva att (mm)']]\n",
    "\n",
    "# Exibir as primeiras linhas do conjunto de teste\n",
    "X_train.head()\n"
   ]
  },
  {
   "cell_type": "markdown",
   "metadata": {},
   "source": [
    "# XGBOOST "
   ]
  },
  {
   "cell_type": "code",
   "execution_count": null,
   "metadata": {},
   "outputs": [],
   "source": [
    "import xgboost as xgb"
   ]
  },
  {
   "cell_type": "code",
   "execution_count": null,
   "metadata": {},
   "outputs": [],
   "source": [
    "xg_reg = xgb.XGBRegressor(objective ='reg:linear', colsample_bytree = 0.3, learning_rate = 0.1,\n",
    "                max_depth = 100, alpha = 1, n_estimators = 100000)"
   ]
  },
  {
   "cell_type": "code",
   "execution_count": null,
   "metadata": {},
   "outputs": [],
   "source": [
    "xg_reg.fit(X_train,y_train)\n",
    "\n",
    "preds = xg_reg.predict(X_test)"
   ]
  },
  {
   "cell_type": "code",
   "execution_count": null,
   "metadata": {},
   "outputs": [],
   "source": [
    "imprimir_scores_predicao(\"XGBoost\", y_test, preds)\n"
   ]
  },
  {
   "cell_type": "code",
   "execution_count": null,
   "metadata": {},
   "outputs": [],
   "source": [
    "from matplotlib import pyplot\n",
    "print(xg_reg.feature_importances_)\n",
    "# plot\n",
    "pyplot.bar(range(len(xg_reg.feature_importances_)), xg_reg.feature_importances_)\n",
    "pyplot.show()"
   ]
  },
  {
   "cell_type": "code",
   "execution_count": null,
   "metadata": {},
   "outputs": [],
   "source": [
    "from xgboost import plot_importance\n",
    "plot_importance(xg_reg)\n",
    "pyplot.show()"
   ]
  },
  {
   "cell_type": "code",
   "execution_count": null,
   "metadata": {},
   "outputs": [],
   "source": [
    "chuvaprevista = []\n",
    "for z in range(len(preds)):\n",
    "    #print(y_pred4[z])\n",
    "    chuvaprevista.append(preds[z])\n",
    "    \n",
    "df_test['Previsão']= chuvaprevista\n",
    "df_test.tail()    "
   ]
  },
  {
   "cell_type": "code",
   "execution_count": null,
   "metadata": {},
   "outputs": [],
   "source": [
    "\n",
    "df_test = df_test[df_test['Ano']>= 1980]\n",
    "df_test =  df_test[df_test['Ano'] <= 2020]"
   ]
  },
  {
   "cell_type": "code",
   "execution_count": null,
   "metadata": {},
   "outputs": [],
   "source": [
    "plt.figure(figsize=(10,10))\n",
    "\n",
    "true_value = df_test['Chuva att (mm)']\n",
    "predicted_value = df_test['Previsão']\n",
    "plt.scatter(true_value, predicted_value, c='crimson')\n",
    "plt.yscale('log')\n",
    "plt.xscale('log')\n",
    "\n",
    "p1 = max(max(predicted_value), max(true_value))\n",
    "p2 = min(min(predicted_value), min(true_value))\n",
    "plt.plot([p1, p2], [p1, p2], 'b-')\n",
    "plt.xlabel('True Values', fontsize=15)\n",
    "plt.ylabel('Predictions', fontsize=15)\n",
    "plt.axis('equal')\n",
    "plt.show()"
   ]
  }
 ],
 "metadata": {
  "kernelspec": {
   "display_name": "Python 3",
   "language": "python",
   "name": "python3"
  },
  "language_info": {
   "codemirror_mode": {
    "name": "ipython",
    "version": 3
   },
   "file_extension": ".py",
   "mimetype": "text/x-python",
   "name": "python",
   "nbconvert_exporter": "python",
   "pygments_lexer": "ipython3",
   "version": "3.11.9"
  },
  "orig_nbformat": 4
 },
 "nbformat": 4,
 "nbformat_minor": 2
}
